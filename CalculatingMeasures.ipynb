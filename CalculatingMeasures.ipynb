{
  "cells": [
    {
      "cell_type": "markdown",
      "source": [
        "# **pysepm - Python Speech Enhancement Performance Measures (Quality and Intelligibility)**\n",
        "* Python implementation of objective quality and intelligibilty measures mentioned in Philipos C. Loizou's great Speech Enhancement Book.\n",
        "---\n",
        "# **Implemented Measures**\n",
        "\n",
        "**Speech Quality Measures**\n",
        "\n",
        "    Segmental Signal-to-Noise Ratio (SNRseg)\n",
        "    Frequency-weighted Segmental SNR (fwSNRseg)\n",
        "    Log-likelihood Ratio (LLR)\n",
        "    Weighted Spectral Slope (WSS)\n",
        "    Perceptual Evaluation of Speech Quality (PESQ), (python-pesq implementation by ludlows)\n",
        "    Composite Objective Speech Quality (composite)\n",
        "    Cepstrum Distance Objective Speech Quality Measure (CD)\n",
        "\n",
        "**Speech Intelligibility Measures**\n",
        "\n",
        "    Short-time objective intelligibility (STOI), (pystoi implementation by mpariente)\n",
        "    Coherence and speech intelligibility index (CSII)\n",
        "    Normalized-covariance measure (NCM)\n",
        "\n",
        "**Dereverberation Measures (TODO)**\n",
        "\n",
        "    Bark spectral distortion (BSD)\n",
        "    Scale-invariant signal to distortion ratio (SI-SDR)\n",
        "\n",
        "---\n",
        "**Install pysepm with pip:**\n",
        "* !pip3 install https://github.com/schmiph2/pysepm/archive/master.zip\n"
      ],
      "metadata": {
        "id": "_Li2xr09h9Cn"
      }
    },
    {
      "cell_type": "code",
      "source": [
        "!pip3 install https://github.com/schmiph2/pysepm/archive/master.zip"
      ],
      "metadata": {
        "colab": {
          "base_uri": "https://localhost:8080/"
        },
        "id": "fYKZBTauhyOf",
        "outputId": "bf39e662-871a-45c2-b9ca-39ff15d081bb"
      },
      "execution_count": 1,
      "outputs": [
        {
          "output_type": "stream",
          "name": "stdout",
          "text": [
            "Collecting https://github.com/schmiph2/pysepm/archive/master.zip\n",
            "  Downloading https://github.com/schmiph2/pysepm/archive/master.zip\n",
            "\u001b[2K     \u001b[32m\\\u001b[0m \u001b[32m1.8 MB\u001b[0m \u001b[31m17.4 MB/s\u001b[0m \u001b[33m0:00:00\u001b[0m\n",
            "\u001b[?25h  Installing build dependencies ... \u001b[?25l\u001b[?25hdone\n",
            "  Getting requirements to build wheel ... \u001b[?25l\u001b[?25hdone\n",
            "  Preparing metadata (pyproject.toml) ... \u001b[?25l\u001b[?25hdone\n",
            "Collecting pesq@ https://github.com/ludlows/python-pesq/archive/master.zip#egg=pesq (from pysepm==0.1)\n",
            "  Downloading https://github.com/ludlows/python-pesq/archive/master.zip\n",
            "\u001b[2K     \u001b[32m-\u001b[0m \u001b[32m223.1 kB\u001b[0m \u001b[31m31.6 MB/s\u001b[0m \u001b[33m0:00:00\u001b[0m\n",
            "\u001b[?25h  Preparing metadata (setup.py) ... \u001b[?25l\u001b[?25hdone\n",
            "Collecting SRMRpy@ https://github.com/jfsantos/SRMRpy/archive/master.zip#egg=SRMRpy (from pysepm==0.1)\n",
            "  Downloading https://github.com/jfsantos/SRMRpy/archive/master.zip\n",
            "\u001b[2K     \u001b[32m-\u001b[0m \u001b[32m39.3 kB\u001b[0m \u001b[31m78.3 MB/s\u001b[0m \u001b[33m0:00:00\u001b[0m\n",
            "\u001b[?25h  Preparing metadata (setup.py) ... \u001b[?25l\u001b[?25hdone\n",
            "Requirement already satisfied: numpy in /usr/local/lib/python3.10/dist-packages (from pysepm==0.1) (1.25.2)\n",
            "Requirement already satisfied: scipy in /usr/local/lib/python3.10/dist-packages (from pysepm==0.1) (1.11.4)\n",
            "Requirement already satisfied: numba in /usr/local/lib/python3.10/dist-packages (from pysepm==0.1) (0.58.1)\n",
            "Collecting pystoi (from pysepm==0.1)\n",
            "  Downloading pystoi-0.4.1-py2.py3-none-any.whl (8.2 kB)\n",
            "Requirement already satisfied: llvmlite<0.42,>=0.41.0dev0 in /usr/local/lib/python3.10/dist-packages (from numba->pysepm==0.1) (0.41.1)\n",
            "Collecting Gammatone@ https://github.com/detly/gammatone/archive/master.zip#egg=Gammatone (from SRMRpy@ https://github.com/jfsantos/SRMRpy/archive/master.zip#egg=SRMRpy->pysepm==0.1)\n",
            "  Downloading https://github.com/detly/gammatone/archive/master.zip\n",
            "\u001b[2K     \u001b[32m\\\u001b[0m \u001b[32m59.4 MB\u001b[0m \u001b[31m181.2 MB/s\u001b[0m \u001b[33m0:00:03\u001b[0m\n",
            "\u001b[?25h  Preparing metadata (setup.py) ... \u001b[?25l\u001b[?25hdone\n",
            "Collecting nose (from Gammatone@ https://github.com/detly/gammatone/archive/master.zip#egg=Gammatone->SRMRpy@ https://github.com/jfsantos/SRMRpy/archive/master.zip#egg=SRMRpy->pysepm==0.1)\n",
            "  Downloading nose-1.3.7-py3-none-any.whl (154 kB)\n",
            "\u001b[2K     \u001b[90m━━━━━━━━━━━━━━━━━━━━━━━━━━━━━━━━━━━━━━━━\u001b[0m \u001b[32m154.7/154.7 kB\u001b[0m \u001b[31m3.8 MB/s\u001b[0m eta \u001b[36m0:00:00\u001b[0m\n",
            "\u001b[?25hCollecting mock (from Gammatone@ https://github.com/detly/gammatone/archive/master.zip#egg=Gammatone->SRMRpy@ https://github.com/jfsantos/SRMRpy/archive/master.zip#egg=SRMRpy->pysepm==0.1)\n",
            "  Downloading mock-5.1.0-py3-none-any.whl (30 kB)\n",
            "Requirement already satisfied: matplotlib in /usr/local/lib/python3.10/dist-packages (from Gammatone@ https://github.com/detly/gammatone/archive/master.zip#egg=Gammatone->SRMRpy@ https://github.com/jfsantos/SRMRpy/archive/master.zip#egg=SRMRpy->pysepm==0.1) (3.7.1)\n",
            "Requirement already satisfied: contourpy>=1.0.1 in /usr/local/lib/python3.10/dist-packages (from matplotlib->Gammatone@ https://github.com/detly/gammatone/archive/master.zip#egg=Gammatone->SRMRpy@ https://github.com/jfsantos/SRMRpy/archive/master.zip#egg=SRMRpy->pysepm==0.1) (1.2.0)\n",
            "Requirement already satisfied: cycler>=0.10 in /usr/local/lib/python3.10/dist-packages (from matplotlib->Gammatone@ https://github.com/detly/gammatone/archive/master.zip#egg=Gammatone->SRMRpy@ https://github.com/jfsantos/SRMRpy/archive/master.zip#egg=SRMRpy->pysepm==0.1) (0.12.1)\n",
            "Requirement already satisfied: fonttools>=4.22.0 in /usr/local/lib/python3.10/dist-packages (from matplotlib->Gammatone@ https://github.com/detly/gammatone/archive/master.zip#egg=Gammatone->SRMRpy@ https://github.com/jfsantos/SRMRpy/archive/master.zip#egg=SRMRpy->pysepm==0.1) (4.50.0)\n",
            "Requirement already satisfied: kiwisolver>=1.0.1 in /usr/local/lib/python3.10/dist-packages (from matplotlib->Gammatone@ https://github.com/detly/gammatone/archive/master.zip#egg=Gammatone->SRMRpy@ https://github.com/jfsantos/SRMRpy/archive/master.zip#egg=SRMRpy->pysepm==0.1) (1.4.5)\n",
            "Requirement already satisfied: packaging>=20.0 in /usr/local/lib/python3.10/dist-packages (from matplotlib->Gammatone@ https://github.com/detly/gammatone/archive/master.zip#egg=Gammatone->SRMRpy@ https://github.com/jfsantos/SRMRpy/archive/master.zip#egg=SRMRpy->pysepm==0.1) (24.0)\n",
            "Requirement already satisfied: pillow>=6.2.0 in /usr/local/lib/python3.10/dist-packages (from matplotlib->Gammatone@ https://github.com/detly/gammatone/archive/master.zip#egg=Gammatone->SRMRpy@ https://github.com/jfsantos/SRMRpy/archive/master.zip#egg=SRMRpy->pysepm==0.1) (9.4.0)\n",
            "Requirement already satisfied: pyparsing>=2.3.1 in /usr/local/lib/python3.10/dist-packages (from matplotlib->Gammatone@ https://github.com/detly/gammatone/archive/master.zip#egg=Gammatone->SRMRpy@ https://github.com/jfsantos/SRMRpy/archive/master.zip#egg=SRMRpy->pysepm==0.1) (3.1.2)\n",
            "Requirement already satisfied: python-dateutil>=2.7 in /usr/local/lib/python3.10/dist-packages (from matplotlib->Gammatone@ https://github.com/detly/gammatone/archive/master.zip#egg=Gammatone->SRMRpy@ https://github.com/jfsantos/SRMRpy/archive/master.zip#egg=SRMRpy->pysepm==0.1) (2.8.2)\n",
            "Requirement already satisfied: six>=1.5 in /usr/local/lib/python3.10/dist-packages (from python-dateutil>=2.7->matplotlib->Gammatone@ https://github.com/detly/gammatone/archive/master.zip#egg=Gammatone->SRMRpy@ https://github.com/jfsantos/SRMRpy/archive/master.zip#egg=SRMRpy->pysepm==0.1) (1.16.0)\n",
            "Building wheels for collected packages: pysepm, pesq, SRMRpy, Gammatone\n",
            "  Building wheel for pysepm (pyproject.toml) ... \u001b[?25l\u001b[?25hdone\n",
            "  Created wheel for pysepm: filename=pysepm-0.1-py3-none-any.whl size=24291 sha256=fc113d40a7ec24fe48944341550159c4ad131e0c39bf6bfa5c007414862e3509\n",
            "  Stored in directory: /tmp/pip-ephem-wheel-cache-n02klbd5/wheels/90/39/b8/6307733bc5df0a99568f88ac06d98352c79425f1045524c156\n",
            "  Building wheel for pesq (setup.py) ... \u001b[?25l\u001b[?25hdone\n",
            "  Created wheel for pesq: filename=pesq-0.0.4-cp310-cp310-linux_x86_64.whl size=262438 sha256=2f70da9c5797528b90fccabfbbc2e99934f913364fbd430f05410afef646c1b2\n",
            "  Stored in directory: /tmp/pip-ephem-wheel-cache-n02klbd5/wheels/3d/7d/9f/9e1d63dc212910a515ac320c8ebfa8467839b0fef3fc1bb57f\n",
            "  Building wheel for SRMRpy (setup.py) ... \u001b[?25l\u001b[?25hdone\n",
            "  Created wheel for SRMRpy: filename=SRMRpy-1.0-py3-none-any.whl size=9363 sha256=31f868a10325521e156b1da193a7036c24fa1e995d382e78e63efc15d2fc4c42\n",
            "  Stored in directory: /tmp/pip-ephem-wheel-cache-n02klbd5/wheels/9b/51/3a/68d1b8f3d0c9954416b967547e478c8556f3473af1e5df96fb\n",
            "  Building wheel for Gammatone (setup.py) ... \u001b[?25l\u001b[?25hdone\n",
            "  Created wheel for Gammatone: filename=Gammatone-1.0-py3-none-any.whl size=21760 sha256=5413be684c13ff50557e48b2ee345fec255440e60a9bb50489a708ab521c51b9\n",
            "  Stored in directory: /tmp/pip-ephem-wheel-cache-n02klbd5/wheels/f7/33/eb/6c0c33ef9ad7fcd7e1355e77994e88a22ce62d68a417260660\n",
            "Successfully built pysepm pesq SRMRpy Gammatone\n",
            "Installing collected packages: pesq, nose, mock, pystoi, Gammatone, SRMRpy, pysepm\n",
            "Successfully installed Gammatone-1.0 SRMRpy-1.0 mock-5.1.0 nose-1.3.7 pesq-0.0.4 pysepm-0.1 pystoi-0.4.1\n"
          ]
        }
      ]
    },
    {
      "cell_type": "markdown",
      "source": [
        "# Importing Required Libraries"
      ],
      "metadata": {
        "id": "gDKR-dM4jc6l"
      }
    },
    {
      "cell_type": "code",
      "execution_count": 2,
      "metadata": {
        "colab": {
          "base_uri": "https://localhost:8080/"
        },
        "id": "-KfSCF0FhmjH",
        "outputId": "3f434760-ec13-40a6-f601-61fc5e2d8726"
      },
      "outputs": [
        {
          "output_type": "stream",
          "name": "stderr",
          "text": [
            "/usr/local/lib/python3.10/dist-packages/pysepm/qualityMeasures.py:121: NumbaDeprecationWarning: The 'nopython' keyword argument was not supplied to the 'numba.jit' decorator. The implicit default value for this argument is currently False, but it will be changed to True in Numba 0.59.0. See https://numba.readthedocs.io/en/stable/reference/deprecation.html#deprecation-of-object-mode-fall-back-behaviour-when-using-jit for details.\n",
            "  def lpcoeff(speech_frame, model_order):\n",
            "/usr/local/lib/python3.10/dist-packages/pysepm/qualityMeasures.py:209: NumbaDeprecationWarning: The 'nopython' keyword argument was not supplied to the 'numba.jit' decorator. The implicit default value for this argument is currently False, but it will be changed to True in Numba 0.59.0. See https://numba.readthedocs.io/en/stable/reference/deprecation.html#deprecation-of-object-mode-fall-back-behaviour-when-using-jit for details.\n",
            "  def find_loc_peaks(slope,energy):\n",
            "/usr/local/lib/python3.10/dist-packages/pysepm/qualityMeasures.py:383: NumbaDeprecationWarning: The 'nopython' keyword argument was not supplied to the 'numba.jit' decorator. The implicit default value for this argument is currently False, but it will be changed to True in Numba 0.59.0. See https://numba.readthedocs.io/en/stable/reference/deprecation.html#deprecation-of-object-mode-fall-back-behaviour-when-using-jit for details.\n",
            "  def lpc2cep(a):\n"
          ]
        }
      ],
      "source": [
        "from scipy.io import wavfile\n",
        "import sys\n",
        "sys.path.append(\"../\")\n",
        "import pysepm\n"
      ]
    },
    {
      "cell_type": "markdown",
      "metadata": {
        "id": "mAa7-YTfhmjJ"
      },
      "source": [
        "# Load Audio Files"
      ]
    },
    {
      "cell_type": "code",
      "execution_count": 3,
      "metadata": {
        "id": "rk2iEhLfhmjK"
      },
      "outputs": [],
      "source": [
        "fs, clean_speech = wavfile.read('/content/voice_long.wav')\n",
        "fs, noisy_speech = wavfile.read('/content/noisy_voice_long.wav')\n",
        "fs, enhanced_speech = wavfile.read('/content/denoise.wav')"
      ]
    },
    {
      "cell_type": "markdown",
      "metadata": {
        "id": "ARAHAxIMhmjL"
      },
      "source": [
        "#Measures Calculations"
      ]
    },
    {
      "cell_type": "markdown",
      "metadata": {
        "id": "jhNssn-EhmjM"
      },
      "source": [
        "## fwSNRseg"
      ]
    },
    {
      "cell_type": "code",
      "source": [
        "pysepm.fwSNRseg(clean_speech, clean_speech, fs)"
      ],
      "metadata": {
        "colab": {
          "base_uri": "https://localhost:8080/"
        },
        "id": "8Fv7fcJ-Agxy",
        "outputId": "ed1b2d70-1d62-4c0a-ac5e-f74bbda22375"
      },
      "execution_count": 4,
      "outputs": [
        {
          "output_type": "execute_result",
          "data": {
            "text/plain": [
              "35.0"
            ]
          },
          "metadata": {},
          "execution_count": 4
        }
      ]
    },
    {
      "cell_type": "code",
      "execution_count": 5,
      "metadata": {
        "colab": {
          "base_uri": "https://localhost:8080/"
        },
        "id": "A_YOpB4PhmjM",
        "outputId": "c2671c58-9adf-4fe0-e4c1-73a8378858a0"
      },
      "outputs": [
        {
          "output_type": "execute_result",
          "data": {
            "text/plain": [
              "6.59563219498055"
            ]
          },
          "metadata": {},
          "execution_count": 5
        }
      ],
      "source": [
        "pysepm.fwSNRseg(clean_speech, noisy_speech, fs)"
      ]
    },
    {
      "cell_type": "code",
      "execution_count": 6,
      "metadata": {
        "colab": {
          "base_uri": "https://localhost:8080/"
        },
        "id": "sUwTo9SPhmjN",
        "outputId": "3676a6f5-f087-4b35-9479-814e0207ee7a"
      },
      "outputs": [
        {
          "output_type": "execute_result",
          "data": {
            "text/plain": [
              "7.693142133387805"
            ]
          },
          "metadata": {},
          "execution_count": 6
        }
      ],
      "source": [
        "pysepm.fwSNRseg(clean_speech, enhanced_speech, fs)"
      ]
    },
    {
      "cell_type": "markdown",
      "metadata": {
        "id": "hPekhCRBhmjO"
      },
      "source": [
        "## SNRseg"
      ]
    },
    {
      "cell_type": "code",
      "source": [
        "pysepm.SNRseg(clean_speech, clean_speech, fs)"
      ],
      "metadata": {
        "colab": {
          "base_uri": "https://localhost:8080/"
        },
        "id": "lb19-HmgAyEo",
        "outputId": "da4922d3-224e-48ec-fcb6-607ea57206b6"
      },
      "execution_count": 7,
      "outputs": [
        {
          "output_type": "execute_result",
          "data": {
            "text/plain": [
              "35.0"
            ]
          },
          "metadata": {},
          "execution_count": 7
        }
      ]
    },
    {
      "cell_type": "code",
      "execution_count": 8,
      "metadata": {
        "colab": {
          "base_uri": "https://localhost:8080/"
        },
        "id": "DU3vMunhhmjP",
        "outputId": "35e52cbe-7902-483e-ed28-c7df6f64e478"
      },
      "outputs": [
        {
          "output_type": "execute_result",
          "data": {
            "text/plain": [
              "-0.914334279575674"
            ]
          },
          "metadata": {},
          "execution_count": 8
        }
      ],
      "source": [
        "pysepm.SNRseg(clean_speech, noisy_speech, fs)"
      ]
    },
    {
      "cell_type": "code",
      "execution_count": 9,
      "metadata": {
        "colab": {
          "base_uri": "https://localhost:8080/"
        },
        "id": "JeFXJiUkhmjR",
        "outputId": "90cebbdc-4440-47b1-a8a7-8e91df9af507"
      },
      "outputs": [
        {
          "output_type": "execute_result",
          "data": {
            "text/plain": [
              "-1.029737447305131"
            ]
          },
          "metadata": {},
          "execution_count": 9
        }
      ],
      "source": [
        "pysepm.SNRseg(clean_speech, enhanced_speech, fs)"
      ]
    },
    {
      "cell_type": "markdown",
      "metadata": {
        "id": "0cQ8Sr8jhmjR"
      },
      "source": [
        "## LLR"
      ]
    },
    {
      "cell_type": "code",
      "source": [
        "pysepm.llr(clean_speech, clean_speech, fs)"
      ],
      "metadata": {
        "colab": {
          "base_uri": "https://localhost:8080/"
        },
        "id": "P9WWvT5pBrJu",
        "outputId": "3593f3f7-1c30-4089-864e-b9268d21bb37"
      },
      "execution_count": 10,
      "outputs": [
        {
          "output_type": "execute_result",
          "data": {
            "text/plain": [
              "0.0"
            ]
          },
          "metadata": {},
          "execution_count": 10
        }
      ]
    },
    {
      "cell_type": "code",
      "execution_count": 11,
      "metadata": {
        "colab": {
          "base_uri": "https://localhost:8080/"
        },
        "id": "U74uzJD8hmjS",
        "outputId": "9f6cf865-a6e8-4574-ca97-746a5f881c77"
      },
      "outputs": [
        {
          "output_type": "execute_result",
          "data": {
            "text/plain": [
              "0.8504929285700379"
            ]
          },
          "metadata": {},
          "execution_count": 11
        }
      ],
      "source": [
        "pysepm.llr(clean_speech, noisy_speech, fs)"
      ]
    },
    {
      "cell_type": "code",
      "execution_count": 12,
      "metadata": {
        "colab": {
          "base_uri": "https://localhost:8080/"
        },
        "id": "y9OW2APuhmjS",
        "outputId": "b5f60df9-eda6-436f-b170-cf7eba5e49a6"
      },
      "outputs": [
        {
          "output_type": "execute_result",
          "data": {
            "text/plain": [
              "0.9129876189576717"
            ]
          },
          "metadata": {},
          "execution_count": 12
        }
      ],
      "source": [
        "pysepm.llr(clean_speech, enhanced_speech, fs)"
      ]
    },
    {
      "cell_type": "markdown",
      "metadata": {
        "id": "3BTd0kTphmjT"
      },
      "source": [
        "## WSS"
      ]
    },
    {
      "cell_type": "code",
      "source": [
        "pysepm.wss(clean_speech, clean_speech, fs)"
      ],
      "metadata": {
        "colab": {
          "base_uri": "https://localhost:8080/"
        },
        "id": "pX1bPJbRBzls",
        "outputId": "30c993dd-63e5-45cc-cf89-5878db848f2e"
      },
      "execution_count": 14,
      "outputs": [
        {
          "output_type": "execute_result",
          "data": {
            "text/plain": [
              "0.0"
            ]
          },
          "metadata": {},
          "execution_count": 14
        }
      ]
    },
    {
      "cell_type": "code",
      "execution_count": 15,
      "metadata": {
        "colab": {
          "base_uri": "https://localhost:8080/"
        },
        "id": "SMutUWrXhmjT",
        "outputId": "b0f7dfef-224d-4de4-9c40-3b69a8c238bd"
      },
      "outputs": [
        {
          "output_type": "execute_result",
          "data": {
            "text/plain": [
              "82.31313241730614"
            ]
          },
          "metadata": {},
          "execution_count": 15
        }
      ],
      "source": [
        "pysepm.wss(clean_speech, noisy_speech, fs)"
      ]
    },
    {
      "cell_type": "code",
      "execution_count": 16,
      "metadata": {
        "colab": {
          "base_uri": "https://localhost:8080/"
        },
        "id": "q-aYOHY2hmjT",
        "outputId": "68bb1308-211d-4b32-e038-e656e4ae4935"
      },
      "outputs": [
        {
          "output_type": "execute_result",
          "data": {
            "text/plain": [
              "67.95610393429665"
            ]
          },
          "metadata": {},
          "execution_count": 16
        }
      ],
      "source": [
        "pysepm.wss(clean_speech, enhanced_speech, fs)"
      ]
    },
    {
      "cell_type": "markdown",
      "metadata": {
        "id": "Hnjf9IPfhmjU"
      },
      "source": [
        "## Cepstrum Distance (CD)"
      ]
    },
    {
      "cell_type": "code",
      "source": [
        "pysepm.cepstrum_distance(clean_speech, clean_speech, fs)"
      ],
      "metadata": {
        "colab": {
          "base_uri": "https://localhost:8080/"
        },
        "id": "dmJjyAPeB6z4",
        "outputId": "82d7eae2-ada0-488a-abfb-8a15b1bab6c6"
      },
      "execution_count": 17,
      "outputs": [
        {
          "output_type": "execute_result",
          "data": {
            "text/plain": [
              "0.0"
            ]
          },
          "metadata": {},
          "execution_count": 17
        }
      ]
    },
    {
      "cell_type": "code",
      "execution_count": 18,
      "metadata": {
        "colab": {
          "base_uri": "https://localhost:8080/"
        },
        "id": "Yf6879sdhmjU",
        "outputId": "ed0fbbd9-eea5-4a36-c500-4bb89a4051b7"
      },
      "outputs": [
        {
          "output_type": "execute_result",
          "data": {
            "text/plain": [
              "5.4334999449544865"
            ]
          },
          "metadata": {},
          "execution_count": 18
        }
      ],
      "source": [
        "pysepm.cepstrum_distance(clean_speech, noisy_speech, fs)"
      ]
    },
    {
      "cell_type": "code",
      "execution_count": 19,
      "metadata": {
        "colab": {
          "base_uri": "https://localhost:8080/"
        },
        "id": "lMd7wNzahmjU",
        "outputId": "2f6100e5-b8fd-4dcd-ac1c-fc1cca958651"
      },
      "outputs": [
        {
          "output_type": "execute_result",
          "data": {
            "text/plain": [
              "5.610864174868079"
            ]
          },
          "metadata": {},
          "execution_count": 19
        }
      ],
      "source": [
        "pysepm.cepstrum_distance(clean_speech, enhanced_speech, fs)"
      ]
    },
    {
      "cell_type": "markdown",
      "metadata": {
        "id": "UCkri8fkhmjV"
      },
      "source": [
        "## STOI"
      ]
    },
    {
      "cell_type": "code",
      "source": [
        "pysepm.stoi(clean_speech, clean_speech, fs)"
      ],
      "metadata": {
        "colab": {
          "base_uri": "https://localhost:8080/"
        },
        "id": "cAsK0T14CCMO",
        "outputId": "0d7a0146-1bd9-491b-ff1c-cbbee955ac17"
      },
      "execution_count": 20,
      "outputs": [
        {
          "output_type": "execute_result",
          "data": {
            "text/plain": [
              "0.9999999999999997"
            ]
          },
          "metadata": {},
          "execution_count": 20
        }
      ]
    },
    {
      "cell_type": "code",
      "execution_count": 21,
      "metadata": {
        "colab": {
          "base_uri": "https://localhost:8080/"
        },
        "id": "G6C9oir5hmjV",
        "outputId": "624e4c9c-297e-4752-b470-3b0835c4f02f"
      },
      "outputs": [
        {
          "output_type": "execute_result",
          "data": {
            "text/plain": [
              "0.6530532026024273"
            ]
          },
          "metadata": {},
          "execution_count": 21
        }
      ],
      "source": [
        "pysepm.stoi(clean_speech, noisy_speech, fs)"
      ]
    },
    {
      "cell_type": "code",
      "execution_count": 22,
      "metadata": {
        "colab": {
          "base_uri": "https://localhost:8080/"
        },
        "id": "fSGA22KKhmjV",
        "outputId": "4ef6dca0-1ce0-4e10-a056-07283ba1513c"
      },
      "outputs": [
        {
          "output_type": "execute_result",
          "data": {
            "text/plain": [
              "0.6826334639091124"
            ]
          },
          "metadata": {},
          "execution_count": 22
        }
      ],
      "source": [
        "pysepm.stoi(clean_speech, enhanced_speech, fs)"
      ]
    },
    {
      "cell_type": "markdown",
      "metadata": {
        "id": "YTAGw6QVhmjW"
      },
      "source": [
        "## CSII"
      ]
    },
    {
      "cell_type": "code",
      "source": [
        "pysepm.csii(clean_speech, clean_speech, fs)"
      ],
      "metadata": {
        "colab": {
          "base_uri": "https://localhost:8080/"
        },
        "id": "7DsImQdSCJPD",
        "outputId": "7843d074-fbc9-4503-b731-8a313ed00c48"
      },
      "execution_count": 24,
      "outputs": [
        {
          "output_type": "execute_result",
          "data": {
            "text/plain": [
              "(nan, nan, nan)"
            ]
          },
          "metadata": {},
          "execution_count": 24
        }
      ]
    },
    {
      "cell_type": "code",
      "execution_count": 25,
      "metadata": {
        "colab": {
          "base_uri": "https://localhost:8080/"
        },
        "id": "9V9DFrH2hmjW",
        "outputId": "2a742f87-9e22-4395-a33b-fdaf6b829ece"
      },
      "outputs": [
        {
          "output_type": "execute_result",
          "data": {
            "text/plain": [
              "(0.6710044400726888, 0.3547276659677245, 0.0005606113636149651)"
            ]
          },
          "metadata": {},
          "execution_count": 25
        }
      ],
      "source": [
        "pysepm.csii(clean_speech, noisy_speech, fs)"
      ]
    },
    {
      "cell_type": "code",
      "execution_count": 26,
      "metadata": {
        "colab": {
          "base_uri": "https://localhost:8080/"
        },
        "id": "YBr5TQPThmjW",
        "outputId": "b7599628-c318-4270-c177-b171da054884"
      },
      "outputs": [
        {
          "output_type": "execute_result",
          "data": {
            "text/plain": [
              "(0.6676101945146028, 0.4666153175402142, 0.06669181947600496)"
            ]
          },
          "metadata": {},
          "execution_count": 26
        }
      ],
      "source": [
        "pysepm.csii(clean_speech, enhanced_speech, fs)"
      ]
    },
    {
      "cell_type": "markdown",
      "metadata": {
        "id": "O5c5evJ7hmjW"
      },
      "source": [
        "## PESQ"
      ]
    },
    {
      "cell_type": "code",
      "source": [
        "pysepm.pesq(clean_speech, clean_speech, fs)"
      ],
      "metadata": {
        "colab": {
          "base_uri": "https://localhost:8080/"
        },
        "id": "FNwvrCWiCQ-O",
        "outputId": "d26074b4-dcd9-430b-dd87-87a481a4058a"
      },
      "execution_count": 27,
      "outputs": [
        {
          "output_type": "execute_result",
          "data": {
            "text/plain": [
              "(4.500000041412472, 4.548638343811035)"
            ]
          },
          "metadata": {},
          "execution_count": 27
        }
      ]
    },
    {
      "cell_type": "code",
      "execution_count": 28,
      "metadata": {
        "colab": {
          "base_uri": "https://localhost:8080/"
        },
        "id": "zlCv3F6uhmjW",
        "outputId": "c734818e-5e5c-46b2-b1a3-26d852046bb6"
      },
      "outputs": [
        {
          "output_type": "execute_result",
          "data": {
            "text/plain": [
              "(1.66666784698026, 1.408957839012146)"
            ]
          },
          "metadata": {},
          "execution_count": 28
        }
      ],
      "source": [
        "pysepm.pesq(clean_speech, noisy_speech, fs)"
      ]
    },
    {
      "cell_type": "code",
      "execution_count": 29,
      "metadata": {
        "colab": {
          "base_uri": "https://localhost:8080/"
        },
        "id": "FOkHxAmphmjX",
        "outputId": "ed5216f0-33ed-4374-d326-2b316422619e"
      },
      "outputs": [
        {
          "output_type": "execute_result",
          "data": {
            "text/plain": [
              "(1.9794206064084015, 1.6155791282653809)"
            ]
          },
          "metadata": {},
          "execution_count": 29
        }
      ],
      "source": [
        "pysepm.pesq(clean_speech, enhanced_speech, fs)"
      ]
    },
    {
      "cell_type": "markdown",
      "metadata": {
        "id": "IEk77ZUfhmjX"
      },
      "source": [
        "## Composite"
      ]
    },
    {
      "cell_type": "code",
      "source": [
        "pysepm.composite(clean_speech, clean_speech, fs)"
      ],
      "metadata": {
        "colab": {
          "base_uri": "https://localhost:8080/"
        },
        "id": "zouXjDPfCYH2",
        "outputId": "6ae0e805-f861-44c8-e44a-fc3483b6611a"
      },
      "execution_count": 30,
      "outputs": [
        {
          "output_type": "execute_result",
          "data": {
            "text/plain": [
              "(5.0, 5.0, 5.0)"
            ]
          },
          "metadata": {},
          "execution_count": 30
        }
      ]
    },
    {
      "cell_type": "code",
      "execution_count": 31,
      "metadata": {
        "colab": {
          "base_uri": "https://localhost:8080/"
        },
        "id": "ImQdYhMshmjX",
        "outputId": "2c3fb082-f3f1-4001-8942-148710e8340d"
      },
      "outputs": [
        {
          "output_type": "execute_result",
          "data": {
            "text/plain": [
              "(2.4679831163706316, 1.7968722443221536, 1.917036336501866)"
            ]
          },
          "metadata": {},
          "execution_count": 31
        }
      ],
      "source": [
        "pysepm.composite(clean_speech, noisy_speech, fs)"
      ]
    },
    {
      "cell_type": "code",
      "execution_count": 32,
      "metadata": {
        "colab": {
          "base_uri": "https://localhost:8080/"
        },
        "id": "WuDI_PJXhmjX",
        "outputId": "fa46acd7-b380-4574-e151-b93f38fe32ab"
      },
      "outputs": [
        {
          "output_type": "execute_result",
          "data": {
            "text/plain": [
              "(2.6859120489025337, 2.0395968631429158, 2.2196070371271728)"
            ]
          },
          "metadata": {},
          "execution_count": 32
        }
      ],
      "source": [
        "pysepm.composite(clean_speech, enhanced_speech, fs)"
      ]
    },
    {
      "cell_type": "markdown",
      "metadata": {
        "id": "_6nFVPz3hmjX"
      },
      "source": [
        "## NCM"
      ]
    },
    {
      "cell_type": "code",
      "source": [
        "pysepm.ncm(clean_speech, clean_speech, fs)"
      ],
      "metadata": {
        "colab": {
          "base_uri": "https://localhost:8080/"
        },
        "id": "B6zX2HCbCemU",
        "outputId": "5774d9ab-c2e1-4dbf-bf4c-47eb95f064c2"
      },
      "execution_count": 34,
      "outputs": [
        {
          "output_type": "stream",
          "name": "stderr",
          "text": [
            "/usr/local/lib/python3.10/dist-packages/pysepm/intelligibilityMeasures.py:268: RuntimeWarning: invalid value encountered in log10\n",
            "  asnr[k]= 10*np.log10( (ro2[k]+ 1e-20)/ (1- ro2[k]+ 1e-20)); # Eq.9 in [1]\n"
          ]
        },
        {
          "output_type": "execute_result",
          "data": {
            "text/plain": [
              "nan"
            ]
          },
          "metadata": {},
          "execution_count": 34
        }
      ]
    },
    {
      "cell_type": "code",
      "execution_count": 35,
      "metadata": {
        "colab": {
          "base_uri": "https://localhost:8080/"
        },
        "id": "Q11JSRF8hmjY",
        "outputId": "75773c67-3ae4-416b-d3b9-d64bf660b7aa"
      },
      "outputs": [
        {
          "output_type": "execute_result",
          "data": {
            "text/plain": [
              "0.5854773754174281"
            ]
          },
          "metadata": {},
          "execution_count": 35
        }
      ],
      "source": [
        "pysepm.ncm(clean_speech, noisy_speech, fs)"
      ]
    },
    {
      "cell_type": "code",
      "execution_count": 36,
      "metadata": {
        "colab": {
          "base_uri": "https://localhost:8080/"
        },
        "id": "Esaa3dB6hmjY",
        "outputId": "e8876c4f-38b0-466b-d3b7-0e468db3cd86"
      },
      "outputs": [
        {
          "output_type": "execute_result",
          "data": {
            "text/plain": [
              "0.6371011179133211"
            ]
          },
          "metadata": {},
          "execution_count": 36
        }
      ],
      "source": [
        "pysepm.ncm(clean_speech, enhanced_speech, fs)"
      ]
    },
    {
      "cell_type": "markdown",
      "metadata": {
        "id": "b-iFBak1hmjY"
      },
      "source": [
        "# SRMR"
      ]
    },
    {
      "cell_type": "code",
      "source": [
        "pysepm.srmr(clean_speech, fs)"
      ],
      "metadata": {
        "colab": {
          "base_uri": "https://localhost:8080/"
        },
        "id": "VfodmtT1CsbI",
        "outputId": "24afd403-63e1-4dcd-a37f-7038f01bd7d0"
      },
      "execution_count": 37,
      "outputs": [
        {
          "output_type": "execute_result",
          "data": {
            "text/plain": [
              "7.543343835266136"
            ]
          },
          "metadata": {},
          "execution_count": 37
        }
      ]
    },
    {
      "cell_type": "code",
      "execution_count": 38,
      "metadata": {
        "colab": {
          "base_uri": "https://localhost:8080/"
        },
        "id": "-YQN2rdkhmjY",
        "outputId": "dff18d1b-a7b4-4202-b11e-fec5983aadcf"
      },
      "outputs": [
        {
          "output_type": "execute_result",
          "data": {
            "text/plain": [
              "2.5670654419373014"
            ]
          },
          "metadata": {},
          "execution_count": 38
        }
      ],
      "source": [
        "pysepm.srmr(noisy_speech, fs)"
      ]
    },
    {
      "cell_type": "code",
      "execution_count": 39,
      "metadata": {
        "colab": {
          "base_uri": "https://localhost:8080/"
        },
        "id": "ZmvWvTCzhmjY",
        "outputId": "3fd6d6a1-4eff-4544-b819-dc29c291b879"
      },
      "outputs": [
        {
          "output_type": "execute_result",
          "data": {
            "text/plain": [
              "6.202855224306465"
            ]
          },
          "metadata": {},
          "execution_count": 39
        }
      ],
      "source": [
        "pysepm.srmr(enhanced_speech, fs)"
      ]
    },
    {
      "cell_type": "markdown",
      "metadata": {
        "id": "CZzx7FZThmjZ"
      },
      "source": [
        "# BSD"
      ]
    },
    {
      "cell_type": "code",
      "source": [
        "pysepm.bsd(clean_speech, clean_speech, fs)"
      ],
      "metadata": {
        "colab": {
          "base_uri": "https://localhost:8080/"
        },
        "id": "ySodO_71Cz-E",
        "outputId": "1b242943-8c11-478c-a2b0-2f07744393d3"
      },
      "execution_count": 40,
      "outputs": [
        {
          "output_type": "execute_result",
          "data": {
            "text/plain": [
              "0.0"
            ]
          },
          "metadata": {},
          "execution_count": 40
        }
      ]
    },
    {
      "cell_type": "code",
      "execution_count": 41,
      "metadata": {
        "colab": {
          "base_uri": "https://localhost:8080/"
        },
        "id": "OVaT_iXKhmjZ",
        "outputId": "e4a4e6f0-af58-4fb1-9fcd-98145f9eb30a"
      },
      "outputs": [
        {
          "output_type": "execute_result",
          "data": {
            "text/plain": [
              "31602347757.719788"
            ]
          },
          "metadata": {},
          "execution_count": 41
        }
      ],
      "source": [
        "pysepm.bsd(clean_speech, noisy_speech, fs)"
      ]
    },
    {
      "cell_type": "code",
      "execution_count": 42,
      "metadata": {
        "colab": {
          "base_uri": "https://localhost:8080/"
        },
        "id": "K_iDL2F1hmjZ",
        "outputId": "bef9328a-4ea9-4984-b4b5-35df6399071d"
      },
      "outputs": [
        {
          "output_type": "execute_result",
          "data": {
            "text/plain": [
              "18716190.043051783"
            ]
          },
          "metadata": {},
          "execution_count": 42
        }
      ],
      "source": [
        "pysepm.bsd(clean_speech, enhanced_speech, fs)"
      ]
    },
    {
      "cell_type": "markdown",
      "metadata": {
        "id": "EW6j51yehmjZ"
      },
      "source": [
        "# Measure Execution Times"
      ]
    },
    {
      "cell_type": "code",
      "execution_count": null,
      "metadata": {
        "colab": {
          "base_uri": "https://localhost:8080/"
        },
        "id": "vbLGeLzKhmjZ",
        "outputId": "5b0b8b03-a97f-4b84-f749-b049e58d70d0"
      },
      "outputs": [
        {
          "output_type": "stream",
          "name": "stdout",
          "text": [
            "188 ms ± 25.1 ms per loop (mean ± std. dev. of 7 runs, 10 loops each)\n"
          ]
        }
      ],
      "source": [
        "%timeit pysepm.fwSNRseg(clean_speech, noisy_speech, fs)"
      ]
    },
    {
      "cell_type": "code",
      "execution_count": null,
      "metadata": {
        "colab": {
          "base_uri": "https://localhost:8080/"
        },
        "id": "QSHDqEtahmja",
        "outputId": "2e2036ed-efd5-4c7c-8dd8-e387e7c53c63"
      },
      "outputs": [
        {
          "output_type": "stream",
          "name": "stdout",
          "text": [
            "111 ms ± 17.6 ms per loop (mean ± std. dev. of 7 runs, 10 loops each)\n"
          ]
        }
      ],
      "source": [
        "%timeit pysepm.SNRseg(clean_speech, noisy_speech, fs)"
      ]
    },
    {
      "cell_type": "code",
      "execution_count": null,
      "metadata": {
        "id": "FAlb2mx8hmja",
        "outputId": "4c3843bd-d76a-4b0b-f5b7-90ac65777051"
      },
      "outputs": [
        {
          "name": "stdout",
          "output_type": "stream",
          "text": [
            "113 ms ± 188 µs per loop (mean ± std. dev. of 7 runs, 10 loops each)\n"
          ]
        }
      ],
      "source": [
        "%timeit pysepm.llr(clean_speech, noisy_speech, fs)"
      ]
    },
    {
      "cell_type": "code",
      "execution_count": null,
      "metadata": {
        "id": "3gOaIFdwhmja",
        "outputId": "9aaf5b92-dba7-4e55-e443-a8f3165e7fb3"
      },
      "outputs": [
        {
          "name": "stdout",
          "output_type": "stream",
          "text": [
            "80 ms ± 552 µs per loop (mean ± std. dev. of 7 runs, 10 loops each)\n"
          ]
        }
      ],
      "source": [
        "%timeit pysepm.wss(clean_speech, noisy_speech, fs)"
      ]
    },
    {
      "cell_type": "code",
      "execution_count": null,
      "metadata": {
        "id": "1Pae5vCHhmjb",
        "outputId": "9db210fa-7142-47e2-f51f-77f6b856f2a2"
      },
      "outputs": [
        {
          "name": "stdout",
          "output_type": "stream",
          "text": [
            "92.5 ms ± 391 µs per loop (mean ± std. dev. of 7 runs, 10 loops each)\n"
          ]
        }
      ],
      "source": [
        "%timeit pysepm.cepstrum_distance(clean_speech, noisy_speech, fs)"
      ]
    },
    {
      "cell_type": "code",
      "execution_count": null,
      "metadata": {
        "id": "wZ471AyPhmjb",
        "outputId": "1fe54eb7-267a-4e99-8486-1acf795dc19a"
      },
      "outputs": [
        {
          "name": "stdout",
          "output_type": "stream",
          "text": [
            "143 ms ± 381 µs per loop (mean ± std. dev. of 7 runs, 10 loops each)\n"
          ]
        }
      ],
      "source": [
        "%timeit pysepm.stoi(clean_speech, noisy_speech, fs)"
      ]
    },
    {
      "cell_type": "code",
      "execution_count": null,
      "metadata": {
        "id": "XHidH_nrhmjb",
        "outputId": "f71373b1-6410-4522-d8c3-2fff73ff3004"
      },
      "outputs": [
        {
          "name": "stdout",
          "output_type": "stream",
          "text": [
            "82.7 ms ± 450 µs per loop (mean ± std. dev. of 7 runs, 10 loops each)\n"
          ]
        }
      ],
      "source": [
        "%timeit pysepm.csii(clean_speech, noisy_speech, fs)"
      ]
    },
    {
      "cell_type": "code",
      "execution_count": null,
      "metadata": {
        "id": "MKkCEdjAhmjb",
        "outputId": "d914706b-2b7e-4467-cfcc-fb337ac5e169"
      },
      "outputs": [
        {
          "name": "stdout",
          "output_type": "stream",
          "text": [
            "309 ms ± 510 µs per loop (mean ± std. dev. of 7 runs, 1 loop each)\n"
          ]
        }
      ],
      "source": [
        "%timeit pysepm.pesq(clean_speech, noisy_speech, fs)"
      ]
    },
    {
      "cell_type": "code",
      "execution_count": null,
      "metadata": {
        "id": "QW9jS6fehmjc",
        "outputId": "181f5499-371e-485c-9840-f994d4585401"
      },
      "outputs": [
        {
          "name": "stdout",
          "output_type": "stream",
          "text": [
            "521 ms ± 1.27 ms per loop (mean ± std. dev. of 7 runs, 1 loop each)\n"
          ]
        }
      ],
      "source": [
        "%timeit pysepm.composite(clean_speech, noisy_speech, fs)"
      ]
    },
    {
      "cell_type": "code",
      "execution_count": null,
      "metadata": {
        "id": "Y-6e1scbhmjc",
        "outputId": "78cb491d-e9dc-42e4-87be-05a44f814dfa"
      },
      "outputs": [
        {
          "name": "stdout",
          "output_type": "stream",
          "text": [
            "5.13 s ± 13.7 ms per loop (mean ± std. dev. of 7 runs, 1 loop each)\n"
          ]
        }
      ],
      "source": [
        "%timeit pysepm.ncm(clean_speech, noisy_speech, fs)"
      ]
    },
    {
      "cell_type": "code",
      "execution_count": null,
      "metadata": {
        "id": "JV1SfLu8hmjc",
        "outputId": "9917f40e-ce14-443b-929f-a267ad1e4f69"
      },
      "outputs": [
        {
          "name": "stderr",
          "output_type": "stream",
          "text": [
            "/usr/local/lib/python3.6/dist-packages/srmrpy/hilbert.py:69: FutureWarning: Using a non-tuple sequence for multidimensional indexing is deprecated; use `arr[tuple(seq)]` instead of `arr[seq]`. In the future this will be interpreted as an array index, `arr[np.array(seq)]`, which will result either in an error or a different result.\n",
            "  h = h[ind]\n"
          ]
        },
        {
          "name": "stdout",
          "output_type": "stream",
          "text": [
            "1.6 s ± 660 µs per loop (mean ± std. dev. of 7 runs, 1 loop each)\n"
          ]
        }
      ],
      "source": [
        "%timeit pysepm.srmr(clean_speech, fs)"
      ]
    },
    {
      "cell_type": "code",
      "execution_count": null,
      "metadata": {
        "id": "8NjgYprDhmjc",
        "outputId": "48a2babe-380f-44f0-f0e1-384af2ced69f"
      },
      "outputs": [
        {
          "name": "stdout",
          "output_type": "stream",
          "text": [
            "include pre-emphasis\n",
            "bark filter not tested\n",
            "include pre-emphasis\n",
            "bark filter not tested\n",
            "include pre-emphasis\n",
            "bark filter not tested\n",
            "include pre-emphasis\n",
            "bark filter not tested\n",
            "include pre-emphasis\n",
            "bark filter not tested\n",
            "include pre-emphasis\n",
            "bark filter not tested\n",
            "include pre-emphasis\n",
            "bark filter not tested\n",
            "include pre-emphasis\n",
            "bark filter not tested\n",
            "include pre-emphasis\n",
            "bark filter not tested\n",
            "include pre-emphasis\n",
            "bark filter not tested\n",
            "include pre-emphasis\n",
            "bark filter not tested\n",
            "include pre-emphasis\n",
            "bark filter not tested\n",
            "include pre-emphasis\n",
            "bark filter not tested\n",
            "include pre-emphasis\n",
            "bark filter not tested\n",
            "include pre-emphasis\n",
            "bark filter not tested\n",
            "include pre-emphasis\n",
            "bark filter not tested\n",
            "include pre-emphasis\n",
            "bark filter not tested\n",
            "include pre-emphasis\n",
            "bark filter not tested\n",
            "include pre-emphasis\n",
            "bark filter not tested\n",
            "include pre-emphasis\n",
            "bark filter not tested\n",
            "include pre-emphasis\n",
            "bark filter not tested\n",
            "include pre-emphasis\n",
            "bark filter not tested\n",
            "include pre-emphasis\n",
            "bark filter not tested\n",
            "include pre-emphasis\n",
            "bark filter not tested\n",
            "include pre-emphasis\n",
            "bark filter not tested\n",
            "include pre-emphasis\n",
            "bark filter not tested\n",
            "include pre-emphasis\n",
            "bark filter not tested\n",
            "include pre-emphasis\n",
            "bark filter not tested\n",
            "include pre-emphasis\n",
            "bark filter not tested\n",
            "include pre-emphasis\n",
            "bark filter not tested\n",
            "include pre-emphasis\n",
            "bark filter not tested\n",
            "include pre-emphasis\n",
            "bark filter not tested\n",
            "include pre-emphasis\n",
            "bark filter not tested\n",
            "include pre-emphasis\n",
            "bark filter not tested\n",
            "include pre-emphasis\n",
            "bark filter not tested\n",
            "include pre-emphasis\n",
            "bark filter not tested\n",
            "include pre-emphasis\n",
            "bark filter not tested\n",
            "include pre-emphasis\n",
            "bark filter not tested\n",
            "include pre-emphasis\n",
            "bark filter not tested\n",
            "include pre-emphasis\n",
            "bark filter not tested\n",
            "include pre-emphasis\n",
            "bark filter not tested\n",
            "include pre-emphasis\n",
            "bark filter not tested\n",
            "include pre-emphasis\n",
            "bark filter not tested\n",
            "include pre-emphasis\n",
            "bark filter not tested\n",
            "include pre-emphasis\n",
            "bark filter not tested\n",
            "include pre-emphasis\n",
            "bark filter not tested\n",
            "include pre-emphasis\n",
            "bark filter not tested\n",
            "include pre-emphasis\n",
            "bark filter not tested\n",
            "include pre-emphasis\n",
            "bark filter not tested\n",
            "include pre-emphasis\n",
            "bark filter not tested\n",
            "include pre-emphasis\n",
            "bark filter not tested\n",
            "include pre-emphasis\n",
            "bark filter not tested\n",
            "include pre-emphasis\n",
            "bark filter not tested\n",
            "include pre-emphasis\n",
            "bark filter not tested\n",
            "include pre-emphasis\n",
            "bark filter not tested\n",
            "include pre-emphasis\n",
            "bark filter not tested\n",
            "include pre-emphasis\n",
            "bark filter not tested\n",
            "include pre-emphasis\n",
            "bark filter not tested\n",
            "include pre-emphasis\n",
            "bark filter not tested\n",
            "include pre-emphasis\n",
            "bark filter not tested\n",
            "include pre-emphasis\n",
            "bark filter not tested\n",
            "include pre-emphasis\n",
            "bark filter not tested\n",
            "include pre-emphasis\n",
            "bark filter not tested\n",
            "include pre-emphasis\n",
            "bark filter not tested\n",
            "include pre-emphasis\n",
            "bark filter not tested\n",
            "include pre-emphasis\n",
            "bark filter not tested\n",
            "include pre-emphasis\n",
            "bark filter not tested\n",
            "include pre-emphasis\n",
            "bark filter not tested\n",
            "include pre-emphasis\n",
            "bark filter not tested\n",
            "include pre-emphasis\n",
            "bark filter not tested\n",
            "include pre-emphasis\n",
            "bark filter not tested\n",
            "include pre-emphasis\n",
            "bark filter not tested\n",
            "include pre-emphasis\n",
            "bark filter not tested\n",
            "include pre-emphasis\n",
            "bark filter not tested\n",
            "include pre-emphasis\n",
            "bark filter not tested\n",
            "include pre-emphasis\n",
            "bark filter not tested\n",
            "include pre-emphasis\n",
            "bark filter not tested\n",
            "include pre-emphasis\n",
            "bark filter not tested\n",
            "include pre-emphasis\n",
            "bark filter not tested\n",
            "include pre-emphasis\n",
            "bark filter not tested\n",
            "include pre-emphasis\n",
            "bark filter not tested\n",
            "37.9 ms ± 319 µs per loop (mean ± std. dev. of 7 runs, 10 loops each)\n"
          ]
        }
      ],
      "source": [
        "%timeit pysepm.bsd(clean_speech, noisy_speech, fs)"
      ]
    },
    {
      "cell_type": "code",
      "execution_count": null,
      "metadata": {
        "id": "da3CMbqRhmjd"
      },
      "outputs": [],
      "source": []
    }
  ],
  "metadata": {
    "kernelspec": {
      "display_name": "Python 3",
      "language": "python",
      "name": "python3"
    },
    "language_info": {
      "codemirror_mode": {
        "name": "ipython",
        "version": 3
      },
      "file_extension": ".py",
      "mimetype": "text/x-python",
      "name": "python",
      "nbconvert_exporter": "python",
      "pygments_lexer": "ipython3",
      "version": "3.6.9"
    },
    "colab": {
      "provenance": []
    }
  },
  "nbformat": 4,
  "nbformat_minor": 0
}