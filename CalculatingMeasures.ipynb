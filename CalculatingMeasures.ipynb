{
  "cells": [
    {
      "cell_type": "markdown",
      "source": [
        "# **pysepm - Python Speech Enhancement Performance Measures (Quality and Intelligibility)**\n",
        "* Python implementation of objective quality and intelligibilty measures mentioned in Philipos C. Loizou's great Speech Enhancement Book.\n",
        "---\n",
        "# **Implemented Measures**\n",
        "\n",
        "**Speech Quality Measures**\n",
        "\n",
        "    Segmental Signal-to-Noise Ratio (SNRseg)\n",
        "    Frequency-weighted Segmental SNR (fwSNRseg)\n",
        "    Log-likelihood Ratio (LLR)\n",
        "    Weighted Spectral Slope (WSS)\n",
        "    Perceptual Evaluation of Speech Quality (PESQ), (python-pesq implementation by ludlows)\n",
        "    Composite Objective Speech Quality (composite)\n",
        "    Cepstrum Distance Objective Speech Quality Measure (CD)\n",
        "\n",
        "**Speech Intelligibility Measures**\n",
        "\n",
        "    Short-time objective intelligibility (STOI), (pystoi implementation by mpariente)\n",
        "    Coherence and speech intelligibility index (CSII)\n",
        "    Normalized-covariance measure (NCM)\n",
        "\n",
        "**Dereverberation Measures (TODO)**\n",
        "\n",
        "    Bark spectral distortion (BSD)\n",
        "    Scale-invariant signal to distortion ratio (SI-SDR)\n",
        "\n",
        "---\n",
        "**Install pysepm with pip:**\n",
        "* !pip3 install https://github.com/schmiph2/pysepm/archive/master.zip\n",
        ""
      ],
      "metadata": {
        "id": "_Li2xr09h9Cn"
      }
    },
    {
      "cell_type": "code",
      "source": [
        "!pip3 install https://github.com/schmiph2/pysepm/archive/master.zip"
      ],
      "metadata": {
        "colab": {
          "base_uri": "https://localhost:8080/"
        },
        "id": "fYKZBTauhyOf",
        "outputId": "ebe70b6b-1cf8-4d49-9461-3641de9bd263"
      },
      "execution_count": 1,
      "outputs": [
        {
          "output_type": "stream",
          "name": "stdout",
          "text": [
            "Collecting https://github.com/schmiph2/pysepm/archive/master.zip\n",
            "  Downloading https://github.com/schmiph2/pysepm/archive/master.zip\n",
            "\u001b[2K     \u001b[32m|\u001b[0m \u001b[32m1.8 MB\u001b[0m \u001b[31m20.7 MB/s\u001b[0m \u001b[33m0:00:00\u001b[0m\n",
            "\u001b[?25h  Installing build dependencies ... \u001b[?25l\u001b[?25hdone\n",
            "  Getting requirements to build wheel ... \u001b[?25l\u001b[?25hdone\n",
            "  Preparing metadata (pyproject.toml) ... \u001b[?25l\u001b[?25hdone\n",
            "Collecting pesq@ https://github.com/ludlows/python-pesq/archive/master.zip#egg=pesq (from pysepm==0.1)\n",
            "  Downloading https://github.com/ludlows/python-pesq/archive/master.zip\n",
            "\u001b[2K     \u001b[32m-\u001b[0m \u001b[32m223.1 kB\u001b[0m \u001b[31m17.6 MB/s\u001b[0m \u001b[33m0:00:00\u001b[0m\n",
            "\u001b[?25h  Preparing metadata (setup.py) ... \u001b[?25l\u001b[?25hdone\n",
            "Collecting SRMRpy@ https://github.com/jfsantos/SRMRpy/archive/master.zip#egg=SRMRpy (from pysepm==0.1)\n",
            "  Downloading https://github.com/jfsantos/SRMRpy/archive/master.zip\n",
            "\u001b[2K     \u001b[32m-\u001b[0m \u001b[32m39.3 kB\u001b[0m \u001b[31m98.1 MB/s\u001b[0m \u001b[33m0:00:00\u001b[0m\n",
            "\u001b[?25h  Preparing metadata (setup.py) ... \u001b[?25l\u001b[?25hdone\n",
            "Requirement already satisfied: numpy in /usr/local/lib/python3.10/dist-packages (from pysepm==0.1) (1.25.2)\n",
            "Requirement already satisfied: scipy in /usr/local/lib/python3.10/dist-packages (from pysepm==0.1) (1.11.4)\n",
            "Requirement already satisfied: numba in /usr/local/lib/python3.10/dist-packages (from pysepm==0.1) (0.58.1)\n",
            "Collecting pystoi (from pysepm==0.1)\n",
            "  Downloading pystoi-0.4.1-py2.py3-none-any.whl (8.2 kB)\n",
            "Requirement already satisfied: llvmlite<0.42,>=0.41.0dev0 in /usr/local/lib/python3.10/dist-packages (from numba->pysepm==0.1) (0.41.1)\n",
            "Collecting Gammatone@ https://github.com/detly/gammatone/archive/master.zip#egg=Gammatone (from SRMRpy@ https://github.com/jfsantos/SRMRpy/archive/master.zip#egg=SRMRpy->pysepm==0.1)\n",
            "  Downloading https://github.com/detly/gammatone/archive/master.zip\n",
            "\u001b[2K     \u001b[32m\\\u001b[0m \u001b[32m59.4 MB\u001b[0m \u001b[31m78.6 MB/s\u001b[0m \u001b[33m0:00:03\u001b[0m\n",
            "\u001b[?25h  Preparing metadata (setup.py) ... \u001b[?25l\u001b[?25hdone\n",
            "Collecting nose (from Gammatone@ https://github.com/detly/gammatone/archive/master.zip#egg=Gammatone->SRMRpy@ https://github.com/jfsantos/SRMRpy/archive/master.zip#egg=SRMRpy->pysepm==0.1)\n",
            "  Downloading nose-1.3.7-py3-none-any.whl (154 kB)\n",
            "\u001b[2K     \u001b[90m━━━━━━━━━━━━━━━━━━━━━━━━━━━━━━━━━━━━━━━━\u001b[0m \u001b[32m154.7/154.7 kB\u001b[0m \u001b[31m5.6 MB/s\u001b[0m eta \u001b[36m0:00:00\u001b[0m\n",
            "\u001b[?25hCollecting mock (from Gammatone@ https://github.com/detly/gammatone/archive/master.zip#egg=Gammatone->SRMRpy@ https://github.com/jfsantos/SRMRpy/archive/master.zip#egg=SRMRpy->pysepm==0.1)\n",
            "  Downloading mock-5.1.0-py3-none-any.whl (30 kB)\n",
            "Requirement already satisfied: matplotlib in /usr/local/lib/python3.10/dist-packages (from Gammatone@ https://github.com/detly/gammatone/archive/master.zip#egg=Gammatone->SRMRpy@ https://github.com/jfsantos/SRMRpy/archive/master.zip#egg=SRMRpy->pysepm==0.1) (3.7.1)\n",
            "Requirement already satisfied: contourpy>=1.0.1 in /usr/local/lib/python3.10/dist-packages (from matplotlib->Gammatone@ https://github.com/detly/gammatone/archive/master.zip#egg=Gammatone->SRMRpy@ https://github.com/jfsantos/SRMRpy/archive/master.zip#egg=SRMRpy->pysepm==0.1) (1.2.0)\n",
            "Requirement already satisfied: cycler>=0.10 in /usr/local/lib/python3.10/dist-packages (from matplotlib->Gammatone@ https://github.com/detly/gammatone/archive/master.zip#egg=Gammatone->SRMRpy@ https://github.com/jfsantos/SRMRpy/archive/master.zip#egg=SRMRpy->pysepm==0.1) (0.12.1)\n",
            "Requirement already satisfied: fonttools>=4.22.0 in /usr/local/lib/python3.10/dist-packages (from matplotlib->Gammatone@ https://github.com/detly/gammatone/archive/master.zip#egg=Gammatone->SRMRpy@ https://github.com/jfsantos/SRMRpy/archive/master.zip#egg=SRMRpy->pysepm==0.1) (4.50.0)\n",
            "Requirement already satisfied: kiwisolver>=1.0.1 in /usr/local/lib/python3.10/dist-packages (from matplotlib->Gammatone@ https://github.com/detly/gammatone/archive/master.zip#egg=Gammatone->SRMRpy@ https://github.com/jfsantos/SRMRpy/archive/master.zip#egg=SRMRpy->pysepm==0.1) (1.4.5)\n",
            "Requirement already satisfied: packaging>=20.0 in /usr/local/lib/python3.10/dist-packages (from matplotlib->Gammatone@ https://github.com/detly/gammatone/archive/master.zip#egg=Gammatone->SRMRpy@ https://github.com/jfsantos/SRMRpy/archive/master.zip#egg=SRMRpy->pysepm==0.1) (24.0)\n",
            "Requirement already satisfied: pillow>=6.2.0 in /usr/local/lib/python3.10/dist-packages (from matplotlib->Gammatone@ https://github.com/detly/gammatone/archive/master.zip#egg=Gammatone->SRMRpy@ https://github.com/jfsantos/SRMRpy/archive/master.zip#egg=SRMRpy->pysepm==0.1) (9.4.0)\n",
            "Requirement already satisfied: pyparsing>=2.3.1 in /usr/local/lib/python3.10/dist-packages (from matplotlib->Gammatone@ https://github.com/detly/gammatone/archive/master.zip#egg=Gammatone->SRMRpy@ https://github.com/jfsantos/SRMRpy/archive/master.zip#egg=SRMRpy->pysepm==0.1) (3.1.2)\n",
            "Requirement already satisfied: python-dateutil>=2.7 in /usr/local/lib/python3.10/dist-packages (from matplotlib->Gammatone@ https://github.com/detly/gammatone/archive/master.zip#egg=Gammatone->SRMRpy@ https://github.com/jfsantos/SRMRpy/archive/master.zip#egg=SRMRpy->pysepm==0.1) (2.8.2)\n",
            "Requirement already satisfied: six>=1.5 in /usr/local/lib/python3.10/dist-packages (from python-dateutil>=2.7->matplotlib->Gammatone@ https://github.com/detly/gammatone/archive/master.zip#egg=Gammatone->SRMRpy@ https://github.com/jfsantos/SRMRpy/archive/master.zip#egg=SRMRpy->pysepm==0.1) (1.16.0)\n",
            "Building wheels for collected packages: pysepm, pesq, SRMRpy, Gammatone\n",
            "  Building wheel for pysepm (pyproject.toml) ... \u001b[?25l\u001b[?25hdone\n",
            "  Created wheel for pysepm: filename=pysepm-0.1-py3-none-any.whl size=24291 sha256=585a7e306bae390a0868085c4c7fcc7d650d08e1ad519b27f4d96fc816d64443\n",
            "  Stored in directory: /tmp/pip-ephem-wheel-cache-emo5ne3c/wheels/90/39/b8/6307733bc5df0a99568f88ac06d98352c79425f1045524c156\n",
            "  Building wheel for pesq (setup.py) ... \u001b[?25l\u001b[?25hdone\n",
            "  Created wheel for pesq: filename=pesq-0.0.4-cp310-cp310-linux_x86_64.whl size=262438 sha256=54f513d38d3d4bb110f71f4b9b0a1b95f7722186e24494d8e0ec554536887345\n",
            "  Stored in directory: /tmp/pip-ephem-wheel-cache-emo5ne3c/wheels/3d/7d/9f/9e1d63dc212910a515ac320c8ebfa8467839b0fef3fc1bb57f\n",
            "  Building wheel for SRMRpy (setup.py) ... \u001b[?25l\u001b[?25hdone\n",
            "  Created wheel for SRMRpy: filename=SRMRpy-1.0-py3-none-any.whl size=9363 sha256=c4918a7c80b1095af3ae73427261a713bdb809581b2f13782101b78031939bc8\n",
            "  Stored in directory: /tmp/pip-ephem-wheel-cache-emo5ne3c/wheels/9b/51/3a/68d1b8f3d0c9954416b967547e478c8556f3473af1e5df96fb\n",
            "  Building wheel for Gammatone (setup.py) ... \u001b[?25l\u001b[?25hdone\n",
            "  Created wheel for Gammatone: filename=Gammatone-1.0-py3-none-any.whl size=21760 sha256=d0ffae2b4810c1e2b37468159d42068184ab3a6ec233d3e9504f936a2619b9bb\n",
            "  Stored in directory: /tmp/pip-ephem-wheel-cache-emo5ne3c/wheels/f7/33/eb/6c0c33ef9ad7fcd7e1355e77994e88a22ce62d68a417260660\n",
            "Successfully built pysepm pesq SRMRpy Gammatone\n",
            "Installing collected packages: pesq, nose, mock, pystoi, Gammatone, SRMRpy, pysepm\n",
            "Successfully installed Gammatone-1.0 SRMRpy-1.0 mock-5.1.0 nose-1.3.7 pesq-0.0.4 pysepm-0.1 pystoi-0.4.1\n"
          ]
        }
      ]
    },
    {
      "cell_type": "markdown",
      "source": [
        "# Importing Required Libraries"
      ],
      "metadata": {
        "id": "gDKR-dM4jc6l"
      }
    },
    {
      "cell_type": "code",
      "execution_count": 2,
      "metadata": {
        "colab": {
          "base_uri": "https://localhost:8080/"
        },
        "id": "-KfSCF0FhmjH",
        "outputId": "d1bea9e1-9194-4ef3-a137-0c4263a33301"
      },
      "outputs": [
        {
          "output_type": "stream",
          "name": "stderr",
          "text": [
            "/usr/local/lib/python3.10/dist-packages/pysepm/qualityMeasures.py:121: NumbaDeprecationWarning: The 'nopython' keyword argument was not supplied to the 'numba.jit' decorator. The implicit default value for this argument is currently False, but it will be changed to True in Numba 0.59.0. See https://numba.readthedocs.io/en/stable/reference/deprecation.html#deprecation-of-object-mode-fall-back-behaviour-when-using-jit for details.\n",
            "  def lpcoeff(speech_frame, model_order):\n",
            "/usr/local/lib/python3.10/dist-packages/pysepm/qualityMeasures.py:209: NumbaDeprecationWarning: The 'nopython' keyword argument was not supplied to the 'numba.jit' decorator. The implicit default value for this argument is currently False, but it will be changed to True in Numba 0.59.0. See https://numba.readthedocs.io/en/stable/reference/deprecation.html#deprecation-of-object-mode-fall-back-behaviour-when-using-jit for details.\n",
            "  def find_loc_peaks(slope,energy):\n",
            "/usr/local/lib/python3.10/dist-packages/pysepm/qualityMeasures.py:383: NumbaDeprecationWarning: The 'nopython' keyword argument was not supplied to the 'numba.jit' decorator. The implicit default value for this argument is currently False, but it will be changed to True in Numba 0.59.0. See https://numba.readthedocs.io/en/stable/reference/deprecation.html#deprecation-of-object-mode-fall-back-behaviour-when-using-jit for details.\n",
            "  def lpc2cep(a):\n"
          ]
        }
      ],
      "source": [
        "from scipy.io import wavfile\n",
        "import sys\n",
        "sys.path.append(\"../\")\n",
        "import pysepm\n"
      ]
    },
    {
      "cell_type": "markdown",
      "metadata": {
        "id": "mAa7-YTfhmjJ"
      },
      "source": [
        "# Load Audio Files"
      ]
    },
    {
      "cell_type": "code",
      "execution_count": 3,
      "metadata": {
        "id": "rk2iEhLfhmjK"
      },
      "outputs": [],
      "source": [
        "fs, clean_speech = wavfile.read('/content/voice_long.wav')\n",
        "fs, noisy_speech = wavfile.read('/content/noisy_voice_long.wav')\n",
        "fs, enhanced_speech = wavfile.read('/content/denoise.wav')"
      ]
    },
    {
      "cell_type": "markdown",
      "metadata": {
        "id": "ARAHAxIMhmjL"
      },
      "source": [
        "#Measures Calculations"
      ]
    },
    {
      "cell_type": "markdown",
      "metadata": {
        "id": "jhNssn-EhmjM"
      },
      "source": [
        "## fwSNRseg"
      ]
    },
    {
      "cell_type": "code",
      "execution_count": 4,
      "metadata": {
        "colab": {
          "base_uri": "https://localhost:8080/"
        },
        "id": "A_YOpB4PhmjM",
        "outputId": "eaf89069-75a3-4731-93cd-fe0d7035d35b"
      },
      "outputs": [
        {
          "output_type": "execute_result",
          "data": {
            "text/plain": [
              "6.59563219498055"
            ]
          },
          "metadata": {},
          "execution_count": 4
        }
      ],
      "source": [
        "pysepm.fwSNRseg(clean_speech, noisy_speech, fs)"
      ]
    },
    {
      "cell_type": "code",
      "execution_count": 5,
      "metadata": {
        "colab": {
          "base_uri": "https://localhost:8080/"
        },
        "id": "sUwTo9SPhmjN",
        "outputId": "8acbb1c4-dbce-444d-c375-bc6048a3609f"
      },
      "outputs": [
        {
          "output_type": "execute_result",
          "data": {
            "text/plain": [
              "7.693142133387805"
            ]
          },
          "metadata": {},
          "execution_count": 5
        }
      ],
      "source": [
        "pysepm.fwSNRseg(clean_speech, enhanced_speech, fs)"
      ]
    },
    {
      "cell_type": "markdown",
      "metadata": {
        "id": "hPekhCRBhmjO"
      },
      "source": [
        "## SNRseg"
      ]
    },
    {
      "cell_type": "code",
      "execution_count": 6,
      "metadata": {
        "colab": {
          "base_uri": "https://localhost:8080/"
        },
        "id": "DU3vMunhhmjP",
        "outputId": "abe7bf9d-20bd-495a-94d2-cc36b6699f4d"
      },
      "outputs": [
        {
          "output_type": "execute_result",
          "data": {
            "text/plain": [
              "-0.914334279575674"
            ]
          },
          "metadata": {},
          "execution_count": 6
        }
      ],
      "source": [
        "pysepm.SNRseg(clean_speech, noisy_speech, fs)"
      ]
    },
    {
      "cell_type": "code",
      "execution_count": 7,
      "metadata": {
        "colab": {
          "base_uri": "https://localhost:8080/"
        },
        "id": "JeFXJiUkhmjR",
        "outputId": "3174a3f0-d4e7-46c3-8b65-e2506672e948"
      },
      "outputs": [
        {
          "output_type": "execute_result",
          "data": {
            "text/plain": [
              "-1.029737447305131"
            ]
          },
          "metadata": {},
          "execution_count": 7
        }
      ],
      "source": [
        "pysepm.SNRseg(clean_speech, enhanced_speech, fs)"
      ]
    },
    {
      "cell_type": "markdown",
      "metadata": {
        "id": "0cQ8Sr8jhmjR"
      },
      "source": [
        "## LLR"
      ]
    },
    {
      "cell_type": "code",
      "execution_count": 8,
      "metadata": {
        "colab": {
          "base_uri": "https://localhost:8080/"
        },
        "id": "U74uzJD8hmjS",
        "outputId": "2250dada-90d8-4ad1-9b84-623fe2b73a56"
      },
      "outputs": [
        {
          "output_type": "execute_result",
          "data": {
            "text/plain": [
              "0.8504929285700379"
            ]
          },
          "metadata": {},
          "execution_count": 8
        }
      ],
      "source": [
        "pysepm.llr(clean_speech, noisy_speech, fs)"
      ]
    },
    {
      "cell_type": "code",
      "execution_count": 9,
      "metadata": {
        "colab": {
          "base_uri": "https://localhost:8080/"
        },
        "id": "y9OW2APuhmjS",
        "outputId": "37b8891c-92ac-4b58-b8d8-c172bf1b438c"
      },
      "outputs": [
        {
          "output_type": "execute_result",
          "data": {
            "text/plain": [
              "0.9129876189576717"
            ]
          },
          "metadata": {},
          "execution_count": 9
        }
      ],
      "source": [
        "pysepm.llr(clean_speech, enhanced_speech, fs)"
      ]
    },
    {
      "cell_type": "markdown",
      "metadata": {
        "id": "3BTd0kTphmjT"
      },
      "source": [
        "## WSS"
      ]
    },
    {
      "cell_type": "code",
      "execution_count": 10,
      "metadata": {
        "colab": {
          "base_uri": "https://localhost:8080/"
        },
        "id": "SMutUWrXhmjT",
        "outputId": "f803235e-049e-494f-bc48-b24907ead096"
      },
      "outputs": [
        {
          "output_type": "execute_result",
          "data": {
            "text/plain": [
              "82.31313241730614"
            ]
          },
          "metadata": {},
          "execution_count": 10
        }
      ],
      "source": [
        "pysepm.wss(clean_speech, noisy_speech, fs)"
      ]
    },
    {
      "cell_type": "code",
      "execution_count": 11,
      "metadata": {
        "colab": {
          "base_uri": "https://localhost:8080/"
        },
        "id": "q-aYOHY2hmjT",
        "outputId": "b813f8fd-89bc-427d-c32b-e2ccbe5fd030"
      },
      "outputs": [
        {
          "output_type": "execute_result",
          "data": {
            "text/plain": [
              "67.95610393429665"
            ]
          },
          "metadata": {},
          "execution_count": 11
        }
      ],
      "source": [
        "pysepm.wss(clean_speech, enhanced_speech, fs)"
      ]
    },
    {
      "cell_type": "markdown",
      "metadata": {
        "id": "Hnjf9IPfhmjU"
      },
      "source": [
        "## Cepstrum Distance (CD)"
      ]
    },
    {
      "cell_type": "code",
      "execution_count": 12,
      "metadata": {
        "colab": {
          "base_uri": "https://localhost:8080/"
        },
        "id": "Yf6879sdhmjU",
        "outputId": "067030be-0b2d-431c-abf0-32c1db09feee"
      },
      "outputs": [
        {
          "output_type": "execute_result",
          "data": {
            "text/plain": [
              "5.4334999449544865"
            ]
          },
          "metadata": {},
          "execution_count": 12
        }
      ],
      "source": [
        "pysepm.cepstrum_distance(clean_speech, noisy_speech, fs)"
      ]
    },
    {
      "cell_type": "code",
      "execution_count": 13,
      "metadata": {
        "colab": {
          "base_uri": "https://localhost:8080/"
        },
        "id": "lMd7wNzahmjU",
        "outputId": "987027a0-e5f9-43fc-acc3-598e137aa386"
      },
      "outputs": [
        {
          "output_type": "execute_result",
          "data": {
            "text/plain": [
              "5.610864174868079"
            ]
          },
          "metadata": {},
          "execution_count": 13
        }
      ],
      "source": [
        "pysepm.cepstrum_distance(clean_speech, enhanced_speech, fs)"
      ]
    },
    {
      "cell_type": "markdown",
      "metadata": {
        "id": "UCkri8fkhmjV"
      },
      "source": [
        "## STOI"
      ]
    },
    {
      "cell_type": "code",
      "execution_count": 14,
      "metadata": {
        "colab": {
          "base_uri": "https://localhost:8080/"
        },
        "id": "G6C9oir5hmjV",
        "outputId": "f629dd50-3ff2-42ce-e34c-51d991aa7f91"
      },
      "outputs": [
        {
          "output_type": "execute_result",
          "data": {
            "text/plain": [
              "0.6530532026024273"
            ]
          },
          "metadata": {},
          "execution_count": 14
        }
      ],
      "source": [
        "pysepm.stoi(clean_speech, noisy_speech, fs)"
      ]
    },
    {
      "cell_type": "code",
      "execution_count": 15,
      "metadata": {
        "colab": {
          "base_uri": "https://localhost:8080/"
        },
        "id": "fSGA22KKhmjV",
        "outputId": "f883c759-a324-4134-a375-4af526ac6a41"
      },
      "outputs": [
        {
          "output_type": "execute_result",
          "data": {
            "text/plain": [
              "0.6826334639091124"
            ]
          },
          "metadata": {},
          "execution_count": 15
        }
      ],
      "source": [
        "pysepm.stoi(clean_speech, enhanced_speech, fs)"
      ]
    },
    {
      "cell_type": "markdown",
      "metadata": {
        "id": "YTAGw6QVhmjW"
      },
      "source": [
        "## CSII"
      ]
    },
    {
      "cell_type": "code",
      "execution_count": 16,
      "metadata": {
        "colab": {
          "base_uri": "https://localhost:8080/"
        },
        "id": "9V9DFrH2hmjW",
        "outputId": "9ab163f5-c85c-4bf3-ec65-4f1d05f753cb"
      },
      "outputs": [
        {
          "output_type": "execute_result",
          "data": {
            "text/plain": [
              "(0.6710044400726888, 0.3547276659677245, 0.0005606113636149651)"
            ]
          },
          "metadata": {},
          "execution_count": 16
        }
      ],
      "source": [
        "pysepm.csii(clean_speech, noisy_speech, fs)"
      ]
    },
    {
      "cell_type": "code",
      "execution_count": 17,
      "metadata": {
        "colab": {
          "base_uri": "https://localhost:8080/"
        },
        "id": "YBr5TQPThmjW",
        "outputId": "1d24843e-bd72-4855-f297-5a2150c604e9"
      },
      "outputs": [
        {
          "output_type": "execute_result",
          "data": {
            "text/plain": [
              "(0.6676101945146028, 0.4666153175402142, 0.06669181947600496)"
            ]
          },
          "metadata": {},
          "execution_count": 17
        }
      ],
      "source": [
        "pysepm.csii(clean_speech, enhanced_speech, fs)"
      ]
    },
    {
      "cell_type": "markdown",
      "metadata": {
        "id": "O5c5evJ7hmjW"
      },
      "source": [
        "## PESQ"
      ]
    },
    {
      "cell_type": "code",
      "execution_count": 18,
      "metadata": {
        "colab": {
          "base_uri": "https://localhost:8080/"
        },
        "id": "zlCv3F6uhmjW",
        "outputId": "6740cdbc-8115-447d-f5b0-e52b1a0f11cb"
      },
      "outputs": [
        {
          "output_type": "execute_result",
          "data": {
            "text/plain": [
              "(1.66666784698026, 1.408957839012146)"
            ]
          },
          "metadata": {},
          "execution_count": 18
        }
      ],
      "source": [
        "pysepm.pesq(clean_speech, noisy_speech, fs)"
      ]
    },
    {
      "cell_type": "code",
      "execution_count": 19,
      "metadata": {
        "colab": {
          "base_uri": "https://localhost:8080/"
        },
        "id": "FOkHxAmphmjX",
        "outputId": "16fa9411-a506-4c6b-f3af-5b3c82f790b9"
      },
      "outputs": [
        {
          "output_type": "execute_result",
          "data": {
            "text/plain": [
              "(1.9794206064084015, 1.6155791282653809)"
            ]
          },
          "metadata": {},
          "execution_count": 19
        }
      ],
      "source": [
        "pysepm.pesq(clean_speech, enhanced_speech, fs)"
      ]
    },
    {
      "cell_type": "markdown",
      "metadata": {
        "id": "IEk77ZUfhmjX"
      },
      "source": [
        "## Composite"
      ]
    },
    {
      "cell_type": "code",
      "execution_count": 20,
      "metadata": {
        "colab": {
          "base_uri": "https://localhost:8080/"
        },
        "id": "ImQdYhMshmjX",
        "outputId": "ce472d6f-7712-4235-965b-b84f41f914ed"
      },
      "outputs": [
        {
          "output_type": "execute_result",
          "data": {
            "text/plain": [
              "(2.4679831163706316, 1.7968722443221536, 1.917036336501866)"
            ]
          },
          "metadata": {},
          "execution_count": 20
        }
      ],
      "source": [
        "pysepm.composite(clean_speech, noisy_speech, fs)"
      ]
    },
    {
      "cell_type": "code",
      "execution_count": 21,
      "metadata": {
        "colab": {
          "base_uri": "https://localhost:8080/"
        },
        "id": "WuDI_PJXhmjX",
        "outputId": "3b06c7cb-1a68-418d-ac55-41dfe6f692d5"
      },
      "outputs": [
        {
          "output_type": "execute_result",
          "data": {
            "text/plain": [
              "(2.6859120489025337, 2.0395968631429158, 2.2196070371271728)"
            ]
          },
          "metadata": {},
          "execution_count": 21
        }
      ],
      "source": [
        "pysepm.composite(clean_speech, enhanced_speech, fs)"
      ]
    },
    {
      "cell_type": "markdown",
      "metadata": {
        "id": "_6nFVPz3hmjX"
      },
      "source": [
        "## NCM"
      ]
    },
    {
      "cell_type": "code",
      "execution_count": 22,
      "metadata": {
        "colab": {
          "base_uri": "https://localhost:8080/"
        },
        "id": "Q11JSRF8hmjY",
        "outputId": "a8188e51-5cdb-4979-f05b-abcf76cd64a2"
      },
      "outputs": [
        {
          "output_type": "execute_result",
          "data": {
            "text/plain": [
              "0.5854773754174281"
            ]
          },
          "metadata": {},
          "execution_count": 22
        }
      ],
      "source": [
        "pysepm.ncm(clean_speech, noisy_speech, fs)"
      ]
    },
    {
      "cell_type": "code",
      "execution_count": 23,
      "metadata": {
        "colab": {
          "base_uri": "https://localhost:8080/"
        },
        "id": "Esaa3dB6hmjY",
        "outputId": "12572e96-892b-436f-bf41-8116329d7ca8"
      },
      "outputs": [
        {
          "output_type": "execute_result",
          "data": {
            "text/plain": [
              "0.6371011179133211"
            ]
          },
          "metadata": {},
          "execution_count": 23
        }
      ],
      "source": [
        "pysepm.ncm(clean_speech, enhanced_speech, fs)"
      ]
    },
    {
      "cell_type": "markdown",
      "metadata": {
        "id": "b-iFBak1hmjY"
      },
      "source": [
        "# SRMR"
      ]
    },
    {
      "cell_type": "code",
      "execution_count": 24,
      "metadata": {
        "colab": {
          "base_uri": "https://localhost:8080/"
        },
        "id": "-YQN2rdkhmjY",
        "outputId": "c3279df8-3999-4117-e7e9-1e71c77f8a8c"
      },
      "outputs": [
        {
          "output_type": "execute_result",
          "data": {
            "text/plain": [
              "2.5670654419373014"
            ]
          },
          "metadata": {},
          "execution_count": 24
        }
      ],
      "source": [
        "pysepm.srmr(noisy_speech, fs)"
      ]
    },
    {
      "cell_type": "code",
      "execution_count": 25,
      "metadata": {
        "colab": {
          "base_uri": "https://localhost:8080/"
        },
        "id": "ZmvWvTCzhmjY",
        "outputId": "f2062a88-75f1-4ed3-993b-a2cd9afa48ec"
      },
      "outputs": [
        {
          "output_type": "execute_result",
          "data": {
            "text/plain": [
              "6.202855224306465"
            ]
          },
          "metadata": {},
          "execution_count": 25
        }
      ],
      "source": [
        "pysepm.srmr(enhanced_speech, fs)"
      ]
    },
    {
      "cell_type": "markdown",
      "metadata": {
        "id": "CZzx7FZThmjZ"
      },
      "source": [
        "# BSD"
      ]
    },
    {
      "cell_type": "code",
      "execution_count": 26,
      "metadata": {
        "colab": {
          "base_uri": "https://localhost:8080/"
        },
        "id": "OVaT_iXKhmjZ",
        "outputId": "5371f921-04ff-45d3-95ae-208b0814776e"
      },
      "outputs": [
        {
          "output_type": "execute_result",
          "data": {
            "text/plain": [
              "31602347757.719788"
            ]
          },
          "metadata": {},
          "execution_count": 26
        }
      ],
      "source": [
        "pysepm.bsd(clean_speech, noisy_speech, fs)"
      ]
    },
    {
      "cell_type": "code",
      "execution_count": 27,
      "metadata": {
        "colab": {
          "base_uri": "https://localhost:8080/"
        },
        "id": "K_iDL2F1hmjZ",
        "outputId": "55c33750-aefb-450a-9059-4edc50db5137"
      },
      "outputs": [
        {
          "output_type": "execute_result",
          "data": {
            "text/plain": [
              "18716190.043051783"
            ]
          },
          "metadata": {},
          "execution_count": 27
        }
      ],
      "source": [
        "pysepm.bsd(clean_speech, enhanced_speech, fs)"
      ]
    },
    {
      "cell_type": "markdown",
      "metadata": {
        "id": "EW6j51yehmjZ"
      },
      "source": [
        "# Measure Execution Times"
      ]
    },
    {
      "cell_type": "code",
      "execution_count": 28,
      "metadata": {
        "colab": {
          "base_uri": "https://localhost:8080/"
        },
        "id": "vbLGeLzKhmjZ",
        "outputId": "5b0b8b03-a97f-4b84-f749-b049e58d70d0"
      },
      "outputs": [
        {
          "output_type": "stream",
          "name": "stdout",
          "text": [
            "188 ms ± 25.1 ms per loop (mean ± std. dev. of 7 runs, 10 loops each)\n"
          ]
        }
      ],
      "source": [
        "%timeit pysepm.fwSNRseg(clean_speech, noisy_speech, fs)"
      ]
    },
    {
      "cell_type": "code",
      "execution_count": 29,
      "metadata": {
        "colab": {
          "base_uri": "https://localhost:8080/"
        },
        "id": "QSHDqEtahmja",
        "outputId": "2e2036ed-efd5-4c7c-8dd8-e387e7c53c63"
      },
      "outputs": [
        {
          "output_type": "stream",
          "name": "stdout",
          "text": [
            "111 ms ± 17.6 ms per loop (mean ± std. dev. of 7 runs, 10 loops each)\n"
          ]
        }
      ],
      "source": [
        "%timeit pysepm.SNRseg(clean_speech, noisy_speech, fs)"
      ]
    },
    {
      "cell_type": "code",
      "execution_count": null,
      "metadata": {
        "id": "FAlb2mx8hmja",
        "outputId": "4c3843bd-d76a-4b0b-f5b7-90ac65777051"
      },
      "outputs": [
        {
          "name": "stdout",
          "output_type": "stream",
          "text": [
            "113 ms ± 188 µs per loop (mean ± std. dev. of 7 runs, 10 loops each)\n"
          ]
        }
      ],
      "source": [
        "%timeit pysepm.llr(clean_speech, noisy_speech, fs)"
      ]
    },
    {
      "cell_type": "code",
      "execution_count": null,
      "metadata": {
        "id": "3gOaIFdwhmja",
        "outputId": "9aaf5b92-dba7-4e55-e443-a8f3165e7fb3"
      },
      "outputs": [
        {
          "name": "stdout",
          "output_type": "stream",
          "text": [
            "80 ms ± 552 µs per loop (mean ± std. dev. of 7 runs, 10 loops each)\n"
          ]
        }
      ],
      "source": [
        "%timeit pysepm.wss(clean_speech, noisy_speech, fs)"
      ]
    },
    {
      "cell_type": "code",
      "execution_count": null,
      "metadata": {
        "id": "1Pae5vCHhmjb",
        "outputId": "9db210fa-7142-47e2-f51f-77f6b856f2a2"
      },
      "outputs": [
        {
          "name": "stdout",
          "output_type": "stream",
          "text": [
            "92.5 ms ± 391 µs per loop (mean ± std. dev. of 7 runs, 10 loops each)\n"
          ]
        }
      ],
      "source": [
        "%timeit pysepm.cepstrum_distance(clean_speech, noisy_speech, fs)"
      ]
    },
    {
      "cell_type": "code",
      "execution_count": null,
      "metadata": {
        "id": "wZ471AyPhmjb",
        "outputId": "1fe54eb7-267a-4e99-8486-1acf795dc19a"
      },
      "outputs": [
        {
          "name": "stdout",
          "output_type": "stream",
          "text": [
            "143 ms ± 381 µs per loop (mean ± std. dev. of 7 runs, 10 loops each)\n"
          ]
        }
      ],
      "source": [
        "%timeit pysepm.stoi(clean_speech, noisy_speech, fs)"
      ]
    },
    {
      "cell_type": "code",
      "execution_count": null,
      "metadata": {
        "id": "XHidH_nrhmjb",
        "outputId": "f71373b1-6410-4522-d8c3-2fff73ff3004"
      },
      "outputs": [
        {
          "name": "stdout",
          "output_type": "stream",
          "text": [
            "82.7 ms ± 450 µs per loop (mean ± std. dev. of 7 runs, 10 loops each)\n"
          ]
        }
      ],
      "source": [
        "%timeit pysepm.csii(clean_speech, noisy_speech, fs)"
      ]
    },
    {
      "cell_type": "code",
      "execution_count": null,
      "metadata": {
        "id": "MKkCEdjAhmjb",
        "outputId": "d914706b-2b7e-4467-cfcc-fb337ac5e169"
      },
      "outputs": [
        {
          "name": "stdout",
          "output_type": "stream",
          "text": [
            "309 ms ± 510 µs per loop (mean ± std. dev. of 7 runs, 1 loop each)\n"
          ]
        }
      ],
      "source": [
        "%timeit pysepm.pesq(clean_speech, noisy_speech, fs)"
      ]
    },
    {
      "cell_type": "code",
      "execution_count": null,
      "metadata": {
        "id": "QW9jS6fehmjc",
        "outputId": "181f5499-371e-485c-9840-f994d4585401"
      },
      "outputs": [
        {
          "name": "stdout",
          "output_type": "stream",
          "text": [
            "521 ms ± 1.27 ms per loop (mean ± std. dev. of 7 runs, 1 loop each)\n"
          ]
        }
      ],
      "source": [
        "%timeit pysepm.composite(clean_speech, noisy_speech, fs)"
      ]
    },
    {
      "cell_type": "code",
      "execution_count": null,
      "metadata": {
        "id": "Y-6e1scbhmjc",
        "outputId": "78cb491d-e9dc-42e4-87be-05a44f814dfa"
      },
      "outputs": [
        {
          "name": "stdout",
          "output_type": "stream",
          "text": [
            "5.13 s ± 13.7 ms per loop (mean ± std. dev. of 7 runs, 1 loop each)\n"
          ]
        }
      ],
      "source": [
        "%timeit pysepm.ncm(clean_speech, noisy_speech, fs)"
      ]
    },
    {
      "cell_type": "code",
      "execution_count": null,
      "metadata": {
        "id": "JV1SfLu8hmjc",
        "outputId": "9917f40e-ce14-443b-929f-a267ad1e4f69"
      },
      "outputs": [
        {
          "name": "stderr",
          "output_type": "stream",
          "text": [
            "/usr/local/lib/python3.6/dist-packages/srmrpy/hilbert.py:69: FutureWarning: Using a non-tuple sequence for multidimensional indexing is deprecated; use `arr[tuple(seq)]` instead of `arr[seq]`. In the future this will be interpreted as an array index, `arr[np.array(seq)]`, which will result either in an error or a different result.\n",
            "  h = h[ind]\n"
          ]
        },
        {
          "name": "stdout",
          "output_type": "stream",
          "text": [
            "1.6 s ± 660 µs per loop (mean ± std. dev. of 7 runs, 1 loop each)\n"
          ]
        }
      ],
      "source": [
        "%timeit pysepm.srmr(clean_speech, fs)"
      ]
    },
    {
      "cell_type": "code",
      "execution_count": null,
      "metadata": {
        "id": "8NjgYprDhmjc",
        "outputId": "48a2babe-380f-44f0-f0e1-384af2ced69f"
      },
      "outputs": [
        {
          "name": "stdout",
          "output_type": "stream",
          "text": [
            "include pre-emphasis\n",
            "bark filter not tested\n",
            "include pre-emphasis\n",
            "bark filter not tested\n",
            "include pre-emphasis\n",
            "bark filter not tested\n",
            "include pre-emphasis\n",
            "bark filter not tested\n",
            "include pre-emphasis\n",
            "bark filter not tested\n",
            "include pre-emphasis\n",
            "bark filter not tested\n",
            "include pre-emphasis\n",
            "bark filter not tested\n",
            "include pre-emphasis\n",
            "bark filter not tested\n",
            "include pre-emphasis\n",
            "bark filter not tested\n",
            "include pre-emphasis\n",
            "bark filter not tested\n",
            "include pre-emphasis\n",
            "bark filter not tested\n",
            "include pre-emphasis\n",
            "bark filter not tested\n",
            "include pre-emphasis\n",
            "bark filter not tested\n",
            "include pre-emphasis\n",
            "bark filter not tested\n",
            "include pre-emphasis\n",
            "bark filter not tested\n",
            "include pre-emphasis\n",
            "bark filter not tested\n",
            "include pre-emphasis\n",
            "bark filter not tested\n",
            "include pre-emphasis\n",
            "bark filter not tested\n",
            "include pre-emphasis\n",
            "bark filter not tested\n",
            "include pre-emphasis\n",
            "bark filter not tested\n",
            "include pre-emphasis\n",
            "bark filter not tested\n",
            "include pre-emphasis\n",
            "bark filter not tested\n",
            "include pre-emphasis\n",
            "bark filter not tested\n",
            "include pre-emphasis\n",
            "bark filter not tested\n",
            "include pre-emphasis\n",
            "bark filter not tested\n",
            "include pre-emphasis\n",
            "bark filter not tested\n",
            "include pre-emphasis\n",
            "bark filter not tested\n",
            "include pre-emphasis\n",
            "bark filter not tested\n",
            "include pre-emphasis\n",
            "bark filter not tested\n",
            "include pre-emphasis\n",
            "bark filter not tested\n",
            "include pre-emphasis\n",
            "bark filter not tested\n",
            "include pre-emphasis\n",
            "bark filter not tested\n",
            "include pre-emphasis\n",
            "bark filter not tested\n",
            "include pre-emphasis\n",
            "bark filter not tested\n",
            "include pre-emphasis\n",
            "bark filter not tested\n",
            "include pre-emphasis\n",
            "bark filter not tested\n",
            "include pre-emphasis\n",
            "bark filter not tested\n",
            "include pre-emphasis\n",
            "bark filter not tested\n",
            "include pre-emphasis\n",
            "bark filter not tested\n",
            "include pre-emphasis\n",
            "bark filter not tested\n",
            "include pre-emphasis\n",
            "bark filter not tested\n",
            "include pre-emphasis\n",
            "bark filter not tested\n",
            "include pre-emphasis\n",
            "bark filter not tested\n",
            "include pre-emphasis\n",
            "bark filter not tested\n",
            "include pre-emphasis\n",
            "bark filter not tested\n",
            "include pre-emphasis\n",
            "bark filter not tested\n",
            "include pre-emphasis\n",
            "bark filter not tested\n",
            "include pre-emphasis\n",
            "bark filter not tested\n",
            "include pre-emphasis\n",
            "bark filter not tested\n",
            "include pre-emphasis\n",
            "bark filter not tested\n",
            "include pre-emphasis\n",
            "bark filter not tested\n",
            "include pre-emphasis\n",
            "bark filter not tested\n",
            "include pre-emphasis\n",
            "bark filter not tested\n",
            "include pre-emphasis\n",
            "bark filter not tested\n",
            "include pre-emphasis\n",
            "bark filter not tested\n",
            "include pre-emphasis\n",
            "bark filter not tested\n",
            "include pre-emphasis\n",
            "bark filter not tested\n",
            "include pre-emphasis\n",
            "bark filter not tested\n",
            "include pre-emphasis\n",
            "bark filter not tested\n",
            "include pre-emphasis\n",
            "bark filter not tested\n",
            "include pre-emphasis\n",
            "bark filter not tested\n",
            "include pre-emphasis\n",
            "bark filter not tested\n",
            "include pre-emphasis\n",
            "bark filter not tested\n",
            "include pre-emphasis\n",
            "bark filter not tested\n",
            "include pre-emphasis\n",
            "bark filter not tested\n",
            "include pre-emphasis\n",
            "bark filter not tested\n",
            "include pre-emphasis\n",
            "bark filter not tested\n",
            "include pre-emphasis\n",
            "bark filter not tested\n",
            "include pre-emphasis\n",
            "bark filter not tested\n",
            "include pre-emphasis\n",
            "bark filter not tested\n",
            "include pre-emphasis\n",
            "bark filter not tested\n",
            "include pre-emphasis\n",
            "bark filter not tested\n",
            "include pre-emphasis\n",
            "bark filter not tested\n",
            "include pre-emphasis\n",
            "bark filter not tested\n",
            "include pre-emphasis\n",
            "bark filter not tested\n",
            "include pre-emphasis\n",
            "bark filter not tested\n",
            "include pre-emphasis\n",
            "bark filter not tested\n",
            "include pre-emphasis\n",
            "bark filter not tested\n",
            "include pre-emphasis\n",
            "bark filter not tested\n",
            "include pre-emphasis\n",
            "bark filter not tested\n",
            "include pre-emphasis\n",
            "bark filter not tested\n",
            "37.9 ms ± 319 µs per loop (mean ± std. dev. of 7 runs, 10 loops each)\n"
          ]
        }
      ],
      "source": [
        "%timeit pysepm.bsd(clean_speech, noisy_speech, fs)"
      ]
    },
    {
      "cell_type": "code",
      "execution_count": null,
      "metadata": {
        "id": "da3CMbqRhmjd"
      },
      "outputs": [],
      "source": []
    }
  ],
  "metadata": {
    "kernelspec": {
      "display_name": "Python 3",
      "language": "python",
      "name": "python3"
    },
    "language_info": {
      "codemirror_mode": {
        "name": "ipython",
        "version": 3
      },
      "file_extension": ".py",
      "mimetype": "text/x-python",
      "name": "python",
      "nbconvert_exporter": "python",
      "pygments_lexer": "ipython3",
      "version": "3.6.9"
    },
    "colab": {
      "provenance": []
    }
  },
  "nbformat": 4,
  "nbformat_minor": 0
}